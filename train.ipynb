{
 "cells": [
  {
   "cell_type": "code",
   "execution_count": 1,
   "id": "cbb60d56",
   "metadata": {},
   "outputs": [],
   "source": [
    "import pandas as pd\n",
    "from sklearn.model_selection import train_test_split\n",
    "from sklearn.preprocessing import LabelEncoder, StandardScaler\n",
    "from sklearn.metrics import accuracy_score, classification_report, roc_auc_score\n",
    "from xgboost import XGBClassifier"
   ]
  },
  {
   "cell_type": "markdown",
   "id": "fd0d2f86",
   "metadata": {},
   "source": [
    "## Stroke"
   ]
  },
  {
   "cell_type": "code",
   "execution_count": 3,
   "id": "a1f441f7",
   "metadata": {},
   "outputs": [],
   "source": [
    "stroke = pd.read_csv('Datasets/stroke_clean.csv')\n",
    "\n",
    "X_stroke = stroke.drop('stroke', axis=1)\n",
    "y_stroke = stroke['stroke']"
   ]
  },
  {
   "cell_type": "code",
   "execution_count": 4,
   "id": "5b4bdec1",
   "metadata": {},
   "outputs": [],
   "source": [
    "X_train, X_test, y_train, y_test = train_test_split(\n",
    "    X_stroke, y_stroke, test_size=0.2, random_state=42, stratify=y_stroke\n",
    ")"
   ]
  },
  {
   "cell_type": "code",
   "execution_count": 5,
   "id": "a73d1d15",
   "metadata": {},
   "outputs": [
    {
     "data": {
      "text/plain": [
       "array([3889,  199])"
      ]
     },
     "execution_count": 5,
     "metadata": {},
     "output_type": "execute_result"
    }
   ],
   "source": [
    "import numpy as np\n",
    "np.bincount(y_train)"
   ]
  },
  {
   "cell_type": "code",
   "execution_count": null,
   "id": "46b74170",
   "metadata": {},
   "outputs": [
    {
     "name": "stdout",
     "output_type": "stream",
     "text": [
      "Before SMOTE: [3889  199]\n",
      "After SMOTE: [3889 3889]\n"
     ]
    }
   ],
   "source": [
    "from imblearn.over_sampling import SMOTE\n",
    "\n",
    "sm = SMOTE(random_state=42)\n",
    "X_res, y_res = sm.fit_resample(X_train, y_train)\n",
    "\n",
    "print(\"Before SMOTE:\", np.bincount(y_train))\n",
    "print(\"After SMOTE:\", np.bincount(y_res))"
   ]
  },
  {
   "cell_type": "code",
   "execution_count": 16,
   "id": "ed0f55eb",
   "metadata": {},
   "outputs": [
    {
     "name": "stdout",
     "output_type": "stream",
     "text": [
      "Accuracy: 0.8346379647749511\n",
      "              precision    recall  f1-score   support\n",
      "\n",
      "           0       0.97      0.85      0.91       972\n",
      "           1       0.14      0.46      0.21        50\n",
      "\n",
      "    accuracy                           0.83      1022\n",
      "   macro avg       0.55      0.66      0.56      1022\n",
      "weighted avg       0.93      0.83      0.87      1022\n",
      "\n"
     ]
    }
   ],
   "source": [
    "from xgboost import XGBClassifier\n",
    "from sklearn.metrics import accuracy_score, classification_report\n",
    "\n",
    "ratio = (y_train == 0).sum() / (y_train == 1).sum()\n",
    "\n",
    "model1 = XGBClassifier(\n",
    "    eval_metric='logloss',\n",
    "    random_state=42,\n",
    "    n_estimators=400,\n",
    "    max_depth=6,\n",
    "    learning_rate=0.05,\n",
    "    subsample=0.8,\n",
    "    colsample_bytree=0.8,\n",
    "    scale_pos_weight=ratio / 2\n",
    ")\n",
    "\n",
    "model1.fit(X_res, y_res)\n",
    "y_pred = model1.predict(X_test)\n",
    "\n",
    "print(\"Accuracy:\", accuracy_score(y_test, y_pred))\n",
    "print(classification_report(y_test, y_pred))"
   ]
  },
  {
   "cell_type": "code",
   "execution_count": 18,
   "id": "4650da3f",
   "metadata": {},
   "outputs": [
    {
     "name": "stdout",
     "output_type": "stream",
     "text": [
      "\n",
      "Threshold: 0.3\n",
      "              precision    recall  f1-score   support\n",
      "\n",
      "           0      0.970     0.806     0.880       972\n",
      "           1      0.121     0.520     0.196        50\n",
      "\n",
      "    accuracy                          0.792      1022\n",
      "   macro avg      0.546     0.663     0.538      1022\n",
      "weighted avg      0.929     0.792     0.847      1022\n",
      "\n",
      "\n",
      "Threshold: 0.4\n",
      "              precision    recall  f1-score   support\n",
      "\n",
      "           0      0.970     0.832     0.896       972\n",
      "           1      0.133     0.500     0.210        50\n",
      "\n",
      "    accuracy                          0.816      1022\n",
      "   macro avg      0.552     0.666     0.553      1022\n",
      "weighted avg      0.929     0.816     0.862      1022\n",
      "\n",
      "\n",
      "Threshold: 0.5\n",
      "              precision    recall  f1-score   support\n",
      "\n",
      "           0      0.968     0.854     0.908       972\n",
      "           1      0.139     0.460     0.214        50\n",
      "\n",
      "    accuracy                          0.835      1022\n",
      "   macro avg      0.554     0.657     0.561      1022\n",
      "weighted avg      0.928     0.835     0.874      1022\n",
      "\n",
      "\n",
      "Threshold: 0.6\n",
      "              precision    recall  f1-score   support\n",
      "\n",
      "           0      0.967     0.885     0.924       972\n",
      "           1      0.158     0.420     0.230        50\n",
      "\n",
      "    accuracy                          0.862      1022\n",
      "   macro avg      0.563     0.652     0.577      1022\n",
      "weighted avg      0.928     0.862     0.890      1022\n",
      "\n",
      "\n",
      "Threshold: 0.7\n",
      "              precision    recall  f1-score   support\n",
      "\n",
      "           0      0.963     0.901     0.931       972\n",
      "           1      0.143     0.320     0.198        50\n",
      "\n",
      "    accuracy                          0.873      1022\n",
      "   macro avg      0.553     0.611     0.564      1022\n",
      "weighted avg      0.923     0.873     0.895      1022\n",
      "\n",
      "\n",
      "Threshold: 0.8\n",
      "              precision    recall  f1-score   support\n",
      "\n",
      "           0      0.958     0.923     0.940       972\n",
      "           1      0.128     0.220     0.162        50\n",
      "\n",
      "    accuracy                          0.888      1022\n",
      "   macro avg      0.543     0.571     0.551      1022\n",
      "weighted avg      0.918     0.888     0.902      1022\n",
      "\n"
     ]
    }
   ],
   "source": [
    "import numpy as np\n",
    "from sklearn.metrics import classification_report\n",
    "\n",
    "y_proba = model1.predict_proba(X_test)[:, 1]\n",
    "\n",
    "for t in [0.3, 0.4, 0.5, 0.6, 0.7, 0.8]:\n",
    "    y_pred_t = (y_proba > t).astype(int)\n",
    "    print(f\"\\nThreshold: {t}\")\n",
    "    print(classification_report(y_test, y_pred_t, digits=3))"
   ]
  },
  {
   "cell_type": "code",
   "execution_count": null,
   "id": "c3702589",
   "metadata": {},
   "outputs": [
    {
     "data": {
      "image/png": "[encoded data removed]",
      "text/plain": [
       "<Figure size 1000x600 with 1 Axes>"
      ]
     },
     "metadata": {},
     "output_type": "display_data"
    },
    {
     "name": "stdout",
     "output_type": "stream",
     "text": [
      "Threshold with max F1: 0.60549134\n",
      "Precision: 0.15789473684210525\n",
      "Recall: 0.42\n",
      "F1-score: 0.2295081927498582\n"
     ]
    }
   ],
   "source": [
    "import matplotlib.pyplot as plt\n",
    "from sklearn.metrics import precision_recall_curve\n",
    "\n",
    "y_proba = model1.predict_proba(X_test)[:, 1]\n",
    "\n",
    "precision, recall, thresholds = precision_recall_curve(y_test, y_proba)\n",
    "\n",
    "f1_scores = 2 * (precision * recall) / (precision + recall + 1e-8)  \n",
    "\n",
    "plt.figure(figsize=(10,6))\n",
    "plt.plot(thresholds, precision[:-1], label='Precision', color='blue')\n",
    "plt.plot(thresholds, recall[:-1], label='Recall', color='green')\n",
    "plt.plot(thresholds, f1_scores[:-1], label='F1-score', color='red')\n",
    "plt.xlabel('Threshold')\n",
    "plt.ylabel('Score')\n",
    "plt.title('Precision, Recall, F1 vs Threshold')\n",
    "plt.legend()\n",
    "plt.grid(True)\n",
    "plt.show()\n",
    "\n",
    "best_idx = f1_scores.argmax()\n",
    "best_threshold = thresholds[best_idx]\n",
    "print(\"Threshold with max F1:\", best_threshold)\n",
    "print(\"Precision:\", precision[best_idx])\n",
    "print(\"Recall:\", recall[best_idx])\n",
    "print(\"F1-score:\", f1_scores[best_idx])"
   ]
  },
  {
   "cell_type": "code",
   "execution_count": 21,
   "id": "3dabefbb",
   "metadata": {},
   "outputs": [
    {
     "name": "stdout",
     "output_type": "stream",
     "text": [
      "Recommended threshold for ~50% recall: 0.327354\n",
      "              precision    recall  f1-score   support\n",
      "\n",
      "           0      0.969     0.811     0.883       972\n",
      "           1      0.120     0.500     0.193        50\n",
      "\n",
      "    accuracy                          0.795      1022\n",
      "   macro avg      0.544     0.655     0.538      1022\n",
      "weighted avg      0.928     0.795     0.849      1022\n",
      "\n"
     ]
    }
   ],
   "source": [
    "import numpy as np\n",
    "from sklearn.metrics import precision_recall_curve, classification_report\n",
    "\n",
    "y_proba = model1.predict_proba(X_test)[:, 1]\n",
    "\n",
    "precision, recall, thresholds = precision_recall_curve(y_test, y_proba)\n",
    "\n",
    "target_recall = 0.5\n",
    "idx = np.argmin(np.abs(recall[:-1] - target_recall)) \n",
    "\n",
    "best_threshold = thresholds[idx]\n",
    "print(\"Recommended threshold for ~50% recall:\", best_threshold)\n",
    "\n",
    "y_pred_opt = (y_proba > best_threshold).astype(int)\n",
    "print(classification_report(y_test, y_pred_opt, digits=3))"
   ]
  },
  {
   "cell_type": "code",
   "execution_count": 25,
   "id": "d71c6b5c",
   "metadata": {},
   "outputs": [
    {
     "data": {
      "text/plain": [
       "['Trained_Models/stroke_model.pkl']"
      ]
     },
     "execution_count": 25,
     "metadata": {},
     "output_type": "execute_result"
    }
   ],
   "source": [
    "import joblib\n",
    "\n",
    "joblib.dump(model1, \"Trained_Models/stroke_model.pkl\")"
   ]
  },
  {
   "cell_type": "markdown",
   "id": "42a690e8",
   "metadata": {},
   "source": [
    "## Heart"
   ]
  },
  {
   "cell_type": "code",
   "execution_count": 26,
   "id": "d7220c38",
   "metadata": {},
   "outputs": [],
   "source": [
    "heart = pd.read_csv('Datasets/heart_clean.csv')\n",
    "\n",
    "X_heart = heart.drop('HeartDisease', axis=1)\n",
    "y_heart = heart['HeartDisease']"
   ]
  },
  {
   "cell_type": "code",
   "execution_count": 27,
   "id": "cc811475",
   "metadata": {},
   "outputs": [],
   "source": [
    "X_train, X_test, y_train, y_test = train_test_split(\n",
    "    X_heart, y_heart, test_size=0.2, random_state=42, stratify=y_heart\n",
    ")"
   ]
  },
  {
   "cell_type": "code",
   "execution_count": null,
   "id": "7750c2b7",
   "metadata": {},
   "outputs": [
    {
     "name": "stdout",
     "output_type": "stream",
     "text": [
      "Accuracy: 0.8804347826086957\n",
      "              precision    recall  f1-score   support\n",
      "\n",
      "           0       0.88      0.85      0.86        82\n",
      "           1       0.88      0.90      0.89       102\n",
      "\n",
      "    accuracy                           0.88       184\n",
      "   macro avg       0.88      0.88      0.88       184\n",
      "weighted avg       0.88      0.88      0.88       184\n",
      "\n"
     ]
    }
   ],
   "source": [
    "from sklearn.ensemble import RandomForestClassifier\n",
    "# Initialize model\n",
    "model2 = RandomForestClassifier(\n",
    "    n_estimators=200,      \n",
    "    max_depth=None,       \n",
    "    min_samples_split=2,\n",
    "    min_samples_leaf=1,\n",
    "    random_state=42,\n",
    "    n_jobs=-1 \n",
    ")\n",
    "\n",
    "# Train\n",
    "model2.fit(X_train, y_train)\n",
    "\n",
    "# Predict\n",
    "y_pred = model2.predict(X_test)\n",
    "\n",
    "# Evaluate\n",
    "print(\"Accuracy:\", accuracy_score(y_test, y_pred))\n",
    "print(classification_report(y_test, y_pred))"
   ]
  },
  {
   "cell_type": "code",
   "execution_count": 29,
   "id": "a2dc4b4f",
   "metadata": {},
   "outputs": [
    {
     "data": {
      "text/plain": [
       "['Trained_Models/heart_model.pkl']"
      ]
     },
     "execution_count": 29,
     "metadata": {},
     "output_type": "execute_result"
    }
   ],
   "source": [
    "joblib.dump(model2, \"Trained_Models/heart_model.pkl\")"
   ]
  },
  {
   "cell_type": "markdown",
   "id": "a3cc8351",
   "metadata": {},
   "source": [
    "## Hepatitis"
   ]
  },
  {
   "cell_type": "code",
   "execution_count": 15,
   "id": "0bbdd1f6",
   "metadata": {},
   "outputs": [],
   "source": [
    "hep = pd.read_csv('Datasets/hepatitis_clean.csv')"
   ]
  },
  {
   "cell_type": "code",
   "execution_count": 16,
   "id": "1aff367e",
   "metadata": {},
   "outputs": [],
   "source": [
    "X_hep = hep.drop('Category', axis=1)\n",
    "y_hep = hep['Category'].replace({\n",
    "    0: 0,  # healthy\n",
    "    1: 0,  # healthy\n",
    "    2: 1,  # hepatitis\n",
    "    3: 1,  # fibrosis\n",
    "    4: 1   # cirrhosis\n",
    "})\n"
   ]
  },
  {
   "cell_type": "code",
   "execution_count": 17,
   "id": "58af845e",
   "metadata": {},
   "outputs": [
    {
     "name": "stdout",
     "output_type": "stream",
     "text": [
      "Category\n",
      "0    540\n",
      "1     75\n",
      "Name: count, dtype: int64\n"
     ]
    },
    {
     "data": {
      "text/plain": [
       "array([0, 1, 2, 3, 4])"
      ]
     },
     "execution_count": 17,
     "metadata": {},
     "output_type": "execute_result"
    }
   ],
   "source": [
    "print(y_hep.value_counts())\n",
    "hep['Category'].unique()"
   ]
  },
  {
   "cell_type": "code",
   "execution_count": 18,
   "id": "39e252c0",
   "metadata": {},
   "outputs": [],
   "source": [
    "X_train, X_test, y_train, y_test = train_test_split(\n",
    "    X_hep, y_hep, test_size=0.2, random_state=42, stratify=y_hep\n",
    ")"
   ]
  },
  {
   "cell_type": "code",
   "execution_count": 22,
   "id": "01aa3f76",
   "metadata": {},
   "outputs": [
    {
     "name": "stdout",
     "output_type": "stream",
     "text": [
      "Any NaNs? False\n",
      "Class balance after SMOTE:\n",
      " Category\n",
      "0    432\n",
      "1    432\n",
      "Name: count, dtype: int64\n"
     ]
    }
   ],
   "source": [
    "#Handling class imbalance by generating synthetic samples based on already present data\n",
    "from imblearn.over_sampling import SMOTE\n",
    "sm = SMOTE(random_state=42)\n",
    "X_train_res, y_train_res = sm.fit_resample(X_train, y_train)\n",
    "print(\"Any NaNs?\", X_train_res.isna().any().any())\n",
    "print(\"Class balance after SMOTE:\\n\", pd.Series(y_train_res).value_counts())"
   ]
  },
  {
   "cell_type": "code",
   "execution_count": 24,
   "id": "ddd590df",
   "metadata": {},
   "outputs": [
    {
     "name": "stdout",
     "output_type": "stream",
     "text": [
      "Accuracy: 0.967479674796748\n",
      "              precision    recall  f1-score   support\n",
      "\n",
      "           0       0.98      0.98      0.98       108\n",
      "           1       0.87      0.87      0.87        15\n",
      "\n",
      "    accuracy                           0.97       123\n",
      "   macro avg       0.92      0.92      0.92       123\n",
      "weighted avg       0.97      0.97      0.97       123\n",
      "\n"
     ]
    }
   ],
   "source": [
    "# Initialize model\n",
    "model3 = XGBClassifier(\n",
    "    n_estimators=400,\n",
    "    learning_rate=0.05,\n",
    "    max_depth=6,\n",
    "    objective='binary:logistic',  \n",
    "    eval_metric='logloss',\n",
    "    random_state=42,\n",
    "    enable_categorical=False\n",
    ")\n",
    "\n",
    "# Train\n",
    "model3.fit(X_train_res, y_train_res)\n",
    "\n",
    "# Predict\n",
    "y_pred = model3.predict(X_test)\n",
    "\n",
    "# Evaluate\n",
    "print(\"Accuracy:\", accuracy_score(y_test, y_pred))\n",
    "print(classification_report(y_test, y_pred))"
   ]
  },
  {
   "cell_type": "code",
   "execution_count": 26,
   "id": "12d6190d",
   "metadata": {},
   "outputs": [
    {
     "data": {
      "text/plain": [
       "['Trained_Models/hepatitis_model.pkl']"
      ]
     },
     "execution_count": 26,
     "metadata": {},
     "output_type": "execute_result"
    }
   ],
   "source": [
    "import joblib\n",
    "joblib.dump(model3, \"Trained_Models/hepatitis_model.pkl\")"
   ]
  }
 ],
 "metadata": {
  "kernelspec": {
   "display_name": "Python 3",
   "language": "python",
   "name": "python3"
  },
  "language_info": {
   "codemirror_mode": {
    "name": "ipython",
    "version": 3
   },
   "file_extension": ".py",
   "mimetype": "text/x-python",
   "name": "python",
   "nbconvert_exporter": "python",
   "pygments_lexer": "ipython3",
   "version": "3.13.7"
  }
 },
 "nbformat": 4,
 "nbformat_minor": 5
}
